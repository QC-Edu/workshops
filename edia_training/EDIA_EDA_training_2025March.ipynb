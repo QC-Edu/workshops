{
  "cells": [
    {
      "cell_type": "markdown",
      "metadata": {
        "id": "ZC_H0aWVnyeH"
      },
      "source": [
        "## Install Dependencies"
      ]
    },
    {
      "cell_type": "code",
      "execution_count": null,
      "metadata": {
        "id": "MbciI255Z7ky"
      },
      "outputs": [],
      "source": [
        "!pip install qc-procrustes > /dev/null\n",
        "!pip install qc-selector > /dev/null"
      ]
    },
    {
      "cell_type": "markdown",
      "metadata": {
        "id": "8a5Y2w7maubD"
      },
      "source": [
        "## Explorative Data Analysis with A Drug Discovery Case Study"
      ]
    },
    {
      "cell_type": "markdown",
      "metadata": {
        "id": "pp3stHt2oKfL"
      },
      "source": [
        "### Basic EDA"
      ]
    },
    {
      "cell_type": "code",
      "execution_count": null,
      "metadata": {
        "id": "zUcr647Mrh6C"
      },
      "outputs": [],
      "source": [
        "import pandas as pd\n",
        "import numpy as np\n",
        "import seaborn as sns\n",
        "import matplotlib.pyplot as plt"
      ]
    },
    {
      "cell_type": "markdown",
      "metadata": {},
      "source": [
        "Load the data"
      ]
    },
    {
      "cell_type": "code",
      "execution_count": null,
      "metadata": {
        "colab": {
          "base_uri": "https://localhost:8080/"
        },
        "id": "huQJOMNZraor",
        "outputId": "1d093489-a296-4227-ba96-7385a29ab2a2"
      },
      "outputs": [],
      "source": []
    },
    {
      "cell_type": "code",
      "execution_count": null,
      "metadata": {
        "colab": {
          "base_uri": "https://localhost:8080/",
          "height": 1000
        },
        "id": "_Ju9Mxjic8Mh",
        "outputId": "e737e387-1381-4e70-e88b-50fe431a2c55"
      },
      "outputs": [],
      "source": []
    },
    {
      "cell_type": "code",
      "execution_count": null,
      "metadata": {
        "colab": {
          "base_uri": "https://localhost:8080/",
          "height": 452
        },
        "id": "naDoKWmb0P94",
        "outputId": "1520d306-95f2-4ef9-9618-e538d2b6e9c1"
      },
      "outputs": [],
      "source": []
    },
    {
      "cell_type": "code",
      "execution_count": null,
      "metadata": {
        "colab": {
          "base_uri": "https://localhost:8080/",
          "height": 765
        },
        "id": "A8_PzdTkaB8-",
        "outputId": "5cdf6605-e52a-4d43-c533-ab6e09236a6f"
      },
      "outputs": [],
      "source": []
    },
    {
      "cell_type": "code",
      "execution_count": null,
      "metadata": {
        "colab": {
          "base_uri": "https://localhost:8080/",
          "height": 418
        },
        "id": "vv7KGK9b2iEx",
        "outputId": "893f0c79-32d9-4c76-9e30-a56b868e92c2"
      },
      "outputs": [],
      "source": []
    },
    {
      "cell_type": "code",
      "execution_count": null,
      "metadata": {
        "colab": {
          "base_uri": "https://localhost:8080/",
          "height": 418
        },
        "id": "x94QnMSQ1XaU",
        "outputId": "386a1a90-a111-455b-a117-d1d94b9f0157"
      },
      "outputs": [],
      "source": []
    },
    {
      "cell_type": "markdown",
      "metadata": {
        "id": "6fcoyioAoRUH"
      },
      "source": [
        "### Selecting Representative Data Points with `Selector` Python Package"
      ]
    },
    {
      "cell_type": "markdown",
      "metadata": {
        "id": "IpFyGP9QSGwQ"
      },
      "source": [
        "**How to encode maccs column as `numpy` array?**:"
      ]
    },
    {
      "cell_type": "markdown",
      "metadata": {
        "id": "hLNu2VDFSTK5"
      },
      "source": [
        "Ask gemini tool on the top right connor."
      ]
    },
    {
      "cell_type": "code",
      "execution_count": null,
      "metadata": {
        "colab": {
          "base_uri": "https://localhost:8080/",
          "height": 564
        },
        "id": "lGTppS7U9jXJ",
        "outputId": "c5b3cfe8-8e62-4e72-8a78-4f54f997b3f4"
      },
      "outputs": [],
      "source": []
    },
    {
      "cell_type": "code",
      "execution_count": null,
      "metadata": {
        "colab": {
          "base_uri": "https://localhost:8080/",
          "height": 410
        },
        "id": "Jbe9E611RPpF",
        "outputId": "9c02e551-8a88-46c8-8393-d84361f07dfb"
      },
      "outputs": [],
      "source": []
    },
    {
      "cell_type": "code",
      "execution_count": null,
      "metadata": {
        "colab": {
          "base_uri": "https://localhost:8080/",
          "height": 410
        },
        "id": "LO02mBH59jeP",
        "outputId": "cb9c02c6-c5d6-4c14-a027-5fb5a857b8e9"
      },
      "outputs": [],
      "source": []
    },
    {
      "cell_type": "code",
      "execution_count": null,
      "metadata": {
        "colab": {
          "base_uri": "https://localhost:8080/",
          "height": 410
        },
        "id": "-AIM2Mo09jh6",
        "outputId": "17761c9c-acca-4dde-8776-a99463dfbcba"
      },
      "outputs": [],
      "source": []
    },
    {
      "cell_type": "markdown",
      "metadata": {
        "id": "djo63YSlFC05"
      },
      "source": [
        "Can we do better?"
      ]
    },
    {
      "cell_type": "markdown",
      "metadata": {
        "id": "2UKGotje5MYN"
      },
      "source": [
        "Add a link to MaxMin algorithm and the package documentation.\n",
        "\n",
        "put hyperlink\n",
        "\n",
        "https://github.com/theochem/Selector/blob/c04a253a928c6abe6c664c4090998187a5407e7e/selector/methods/distance.py#L42"
      ]
    },
    {
      "cell_type": "code",
      "execution_count": null,
      "metadata": {
        "colab": {
          "base_uri": "https://localhost:8080/",
          "height": 341
        },
        "id": "tfRv2uVW9jlC",
        "outputId": "8034fdd6-e4eb-470b-fb24-edd46f88957b"
      },
      "outputs": [],
      "source": []
    },
    {
      "cell_type": "code",
      "execution_count": null,
      "metadata": {
        "colab": {
          "base_uri": "https://localhost:8080/"
        },
        "id": "dJz1TWm0HVwb",
        "outputId": "484425b3-37be-441f-e512-754293ac54cc"
      },
      "outputs": [],
      "source": []
    },
    {
      "cell_type": "code",
      "execution_count": null,
      "metadata": {
        "id": "gDRhbZRHUZjt"
      },
      "outputs": [],
      "source": []
    },
    {
      "cell_type": "code",
      "execution_count": null,
      "metadata": {
        "colab": {
          "base_uri": "https://localhost:8080/",
          "height": 410
        },
        "id": "FqkD4-OqF_sp",
        "outputId": "1ce676e7-b3f5-4559-9f42-07e87c1c1b37"
      },
      "outputs": [],
      "source": []
    },
    {
      "cell_type": "code",
      "execution_count": null,
      "metadata": {
        "id": "MI6cCEbKKMXO"
      },
      "outputs": [],
      "source": []
    },
    {
      "cell_type": "markdown",
      "metadata": {
        "id": "vl72tpQRKMqk"
      },
      "source": [
        "## Bonus: Automatic EDA with `autoviz`"
      ]
    },
    {
      "cell_type": "code",
      "execution_count": null,
      "metadata": {
        "colab": {
          "base_uri": "https://localhost:8080/"
        },
        "id": "YZbzYdrwF_vy",
        "outputId": "67642d75-7f43-40ca-b8bd-f062829daad7"
      },
      "outputs": [],
      "source": [
        "!pip install autoviz > /dev/null"
      ]
    },
    {
      "cell_type": "code",
      "execution_count": null,
      "metadata": {
        "colab": {
          "base_uri": "https://localhost:8080/"
        },
        "id": "5jDANIYXF_y5",
        "outputId": "d40b32f0-edcc-427e-c139-9a944238f7b6"
      },
      "outputs": [],
      "source": [
        "from autoviz.AutoViz_Class import AutoViz_Class"
      ]
    },
    {
      "cell_type": "code",
      "execution_count": null,
      "metadata": {
        "colab": {
          "base_uri": "https://localhost:8080/",
          "height": 1000
        },
        "id": "oCjq02SACxks",
        "outputId": "ff2b6d53-7b76-4c9f-f36c-8eee8c7c2440"
      },
      "outputs": [],
      "source": [
        "df_selected = df[['s_m_entry_id', 'ID', 'r_glide_XP_GScore', 'ALogP', 'Molecular_Weight',\n",
        "       'Molecular_Volume', 'Molecular_PolarSurfaceArea',\n",
        "       'Molecular_Solubility']]\n",
        "AutoViz_Class().AutoViz(filename=None, dfte=df_selected, chart_format='bokeh', depVar='r_glide_XP_GScore')"
      ]
    },
    {
      "cell_type": "code",
      "execution_count": null,
      "metadata": {
        "id": "RbwIBvP5Cxwr"
      },
      "outputs": [],
      "source": []
    },
    {
      "cell_type": "code",
      "execution_count": null,
      "metadata": {
        "id": "u1_dSwxRCyAX"
      },
      "outputs": [],
      "source": [
        "AutoViz_Class().AutoViz(filename=None, dfte=df_selected, chart_format='bokeh', depVar='r_glide_XP_GScore')"
      ]
    },
    {
      "cell_type": "code",
      "execution_count": null,
      "metadata": {
        "id": "nTW0Ue3aOtJa"
      },
      "outputs": [],
      "source": []
    },
    {
      "cell_type": "code",
      "execution_count": null,
      "metadata": {
        "id": "ZfggPAQpOtMi"
      },
      "outputs": [],
      "source": []
    },
    {
      "cell_type": "markdown",
      "metadata": {},
      "source": [
        "## Upload data to Google Colab"
      ]
    },
    {
      "cell_type": "code",
      "execution_count": null,
      "metadata": {
        "id": "H0bLa8z1PAVh"
      },
      "outputs": [],
      "source": [
        "from google.colab import files\n",
        "uploaded = files.upload()"
      ]
    },
    {
      "cell_type": "code",
      "execution_count": null,
      "metadata": {
        "id": "3tivcduLPAYp"
      },
      "outputs": [],
      "source": []
    },
    {
      "cell_type": "code",
      "execution_count": null,
      "metadata": {
        "id": "4kReKyObPAbV"
      },
      "outputs": [],
      "source": []
    },
    {
      "cell_type": "code",
      "execution_count": null,
      "metadata": {
        "id": "KGNTV7uHOtPN"
      },
      "outputs": [],
      "source": []
    },
    {
      "cell_type": "code",
      "execution_count": null,
      "metadata": {
        "id": "728GeVN9OtSQ"
      },
      "outputs": [],
      "source": []
    }
  ],
  "metadata": {
    "colab": {
      "provenance": [],
      "toc_visible": true
    },
    "kernelspec": {
      "display_name": "Python 3",
      "name": "python3"
    },
    "language_info": {
      "name": "python"
    }
  },
  "nbformat": 4,
  "nbformat_minor": 0
}
